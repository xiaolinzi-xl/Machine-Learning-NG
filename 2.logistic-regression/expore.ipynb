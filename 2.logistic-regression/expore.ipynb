{
 "cells": [
  {
   "cell_type": "code",
   "execution_count": 2,
   "metadata": {},
   "outputs": [
    {
     "name": "stderr",
     "output_type": "stream",
     "text": [
      "c:\\users\\xiaolinzi\\miniconda3\\envs\\py36_ml\\lib\\importlib\\_bootstrap.py:219: RuntimeWarning: numpy.ufunc size changed, may indicate binary incompatibility. Expected 192 from C header, got 216 from PyObject\n",
      "  return f(*args, **kwds)\n"
     ]
    }
   ],
   "source": [
    "import numpy as np\n",
    "import pandas as pd\n",
    "import matplotlib.pyplot as plt"
   ]
  },
  {
   "cell_type": "code",
   "execution_count": 6,
   "metadata": {},
   "outputs": [
    {
     "name": "stdout",
     "output_type": "stream",
     "text": [
      "           X1         X2  y\n",
      "0   34.623660  78.024693  0\n",
      "1   30.286711  43.894998  0\n",
      "2   35.847409  72.902198  0\n",
      "3   60.182599  86.308552  1\n",
      "4   79.032736  75.344376  1\n",
      "..        ...        ... ..\n",
      "95  83.489163  48.380286  1\n",
      "96  42.261701  87.103851  1\n",
      "97  99.315009  68.775409  1\n",
      "98  55.340018  64.931938  1\n",
      "99  74.775893  89.529813  1\n",
      "\n",
      "[100 rows x 3 columns]\n"
     ]
    }
   ],
   "source": [
    "# 加载数据\n",
    "df = pd.read_table('ex2data1.txt',sep=',',names=['X1','X2','y'])\n",
    "print(df)"
   ]
  },
  {
   "cell_type": "code",
   "execution_count": 7,
   "metadata": {},
   "outputs": [],
   "source": [
    "# 分离输入和输出\n",
    "y = np.array(df['y'])\n",
    "X1 = np.array(df['X1'])\n",
    "X2 = np.array(df['X2'])"
   ]
  },
  {
   "cell_type": "code",
   "execution_count": 9,
   "metadata": {},
   "outputs": [
    {
     "data": {
      "image/png": "[encoded data removed]",
      "text/plain": [
       "<Figure size 432x288 with 1 Axes>"
      ]
     },
     "metadata": {
      "needs_background": "light"
     },
     "output_type": "display_data"
    }
   ],
   "source": [
    "# 可视化分布情况\n",
    "plt.scatter(X1[y==0],X2[y==0],color='r')\n",
    "plt.scatter(X1[y==1],X2[y==1],color='b')\n",
    "plt.show()"
   ]
  },
  {
   "cell_type": "code",
   "execution_count": 50,
   "metadata": {},
   "outputs": [],
   "source": [
    "# 采用梯度下降法实现逻辑回归\n",
    "def h(theta,X):\n",
    "    return 1 / (1 + np.exp(-1 * X.dot(theta)))\n",
    "\n",
    "# cost function\n",
    "def J(theta,X,y):\n",
    "    return np.sum(-1 * y * np.log(h(theta,X)) - (1 - y) * np.log(h(theta,X))) / len(X)\n",
    "\n",
    "# 求偏导\n",
    "def dJ(theta,X,y):\n",
    "    return ((h(theta,X) - y).T.dot(X)) / len(X)\n",
    "\n",
    "def gradient_descent(initial_theta, X, y,learning_rate=0.01,n_iters=1e4,epsilon=1e-8):\n",
    "    i_iter = 0\n",
    "    theta = initial_theta.copy()\n",
    "    while i_iter < n_iters:\n",
    "        gradient = dJ(theta, X, y)\n",
    "        last_theta = theta\n",
    "        theta = theta - learning_rate * gradient\n",
    "        if abs(J(theta, X, y) - J(last_theta, X, y)) < epsilon:\n",
    "            break\n",
    "        i_iter += 1\n",
    "    return theta"
   ]
  },
  {
   "cell_type": "code",
   "execution_count": 45,
   "metadata": {},
   "outputs": [
    {
     "name": "stdout",
     "output_type": "stream",
     "text": [
      "(100, 3)\n",
      "[-7.65900397  0.41024768 -0.05324509]\n"
     ]
    }
   ],
   "source": [
    "X = np.hstack([X1.reshape(len(X1),-1),X2.reshape(len(X2),-1)])\n",
    "X_train = np.hstack([np.ones((len(X),1)),X])\n",
    "print(X_train.shape)\n",
    "initial_theta = np.zeros(X_train.shape[1])\n",
    "\n",
    "res = gradient_descent(initial_theta,X_train,y)\n",
    "print(res)"
   ]
  },
  {
   "cell_type": "code",
   "execution_count": 46,
   "metadata": {},
   "outputs": [
    {
     "name": "stdout",
     "output_type": "stream",
     "text": [
      "[-25.05219314] [[0.20535491 0.2005838 ]]\n"
     ]
    }
   ],
   "source": [
    "from sklearn.linear_model import LogisticRegression\n",
    "\n",
    "logistic_model = LogisticRegression()\n",
    "logistic_model.fit(X,y)\n",
    "print(logistic_model.intercept_,logistic_model.coef_)"
   ]
  },
  {
   "cell_type": "code",
   "execution_count": 57,
   "metadata": {},
   "outputs": [
    {
     "name": "stdout",
     "output_type": "stream",
     "text": [
      "[-7.65900397  0.41024768 -0.05324509]\n"
     ]
    }
   ],
   "source": [
    "from logistic_regression import MyLogisticRegression\n",
    "\n",
    "my_model = MyLogisticRegression()\n",
    "theta = my_model.fit_gd(X,y)\n",
    "print(theta)"
   ]
  },
  {
   "cell_type": "code",
   "execution_count": null,
   "metadata": {},
   "outputs": [],
   "source": []
  }
 ],
 "metadata": {
  "kernelspec": {
   "display_name": "Python 3",
   "language": "python",
   "name": "python3"
  },
  "language_info": {
   "codemirror_mode": {
    "name": "ipython",
    "version": 3
   },
   "file_extension": ".py",
   "mimetype": "text/x-python",
   "name": "python",
   "nbconvert_exporter": "python",
   "pygments_lexer": "ipython3",
   "version": "3.6.9"
  }
 },
 "nbformat": 4,
 "nbformat_minor": 4
}
